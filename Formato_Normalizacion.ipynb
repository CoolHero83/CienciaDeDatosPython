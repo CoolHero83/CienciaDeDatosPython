{
 "cells": [
  {
   "cell_type": "code",
   "execution_count": 2,
   "metadata": {},
   "outputs": [
    {
     "name": "stdout",
     "output_type": "stream",
     "text": [
      "<class 'pandas.core.frame.DataFrame'>\n",
      "RangeIndex: 1234 entries, 0 to 1233\n",
      "Data columns (total 13 columns):\n",
      " #   Column             Non-Null Count  Dtype  \n",
      "---  ------             --------------  -----  \n",
      " 0   Unnamed: 0         1234 non-null   int64  \n",
      " 1   Name               1234 non-null   object \n",
      " 2   Location           1234 non-null   object \n",
      " 3   Year               1234 non-null   int64  \n",
      " 4   Kilometers_Driven  1234 non-null   int64  \n",
      " 5   Fuel_Type          1234 non-null   object \n",
      " 6   Transmission       1234 non-null   object \n",
      " 7   Owner_Type         1234 non-null   object \n",
      " 8   Mileage            1234 non-null   object \n",
      " 9   Engine             1224 non-null   object \n",
      " 10  Power              1224 non-null   object \n",
      " 11  Seats              1223 non-null   float64\n",
      " 12  New_Price          182 non-null    object \n",
      "dtypes: float64(1), int64(3), object(9)\n",
      "memory usage: 125.5+ KB\n"
     ]
    }
   ],
   "source": [
    "import pandas as pd\n",
    "import numpy as np\n",
    "\n",
    "datos = pd.read_csv(\"Datos/test-data.csv\")\n",
    "datos.info()"
   ]
  },
  {
   "cell_type": "code",
   "execution_count": 6,
   "metadata": {},
   "outputs": [
    {
     "data": {
      "text/html": [
       "<div>\n",
       "<style scoped>\n",
       "    .dataframe tbody tr th:only-of-type {\n",
       "        vertical-align: middle;\n",
       "    }\n",
       "\n",
       "    .dataframe tbody tr th {\n",
       "        vertical-align: top;\n",
       "    }\n",
       "\n",
       "    .dataframe thead th {\n",
       "        text-align: right;\n",
       "    }\n",
       "</style>\n",
       "<table border=\"1\" class=\"dataframe\">\n",
       "  <thead>\n",
       "    <tr style=\"text-align: right;\">\n",
       "      <th></th>\n",
       "      <th>Unnamed: 0</th>\n",
       "      <th>Name</th>\n",
       "      <th>Location</th>\n",
       "      <th>Year</th>\n",
       "      <th>Kilometers_Driven</th>\n",
       "      <th>Fuel_Type</th>\n",
       "      <th>Transmission</th>\n",
       "      <th>Owner_Type</th>\n",
       "      <th>Mileage</th>\n",
       "      <th>Engine</th>\n",
       "      <th>Power</th>\n",
       "      <th>Seats</th>\n",
       "      <th>New_Price</th>\n",
       "    </tr>\n",
       "  </thead>\n",
       "  <tbody>\n",
       "    <tr>\n",
       "      <th>0</th>\n",
       "      <td>0.0</td>\n",
       "      <td>Maruti Alto K10 LXI CNG</td>\n",
       "      <td>Delhi</td>\n",
       "      <td>2014</td>\n",
       "      <td>40929</td>\n",
       "      <td>CNG</td>\n",
       "      <td>Manual</td>\n",
       "      <td>First</td>\n",
       "      <td>32.26 km/kg</td>\n",
       "      <td>998 CC</td>\n",
       "      <td>58.2 bhp</td>\n",
       "      <td>4.0</td>\n",
       "      <td>NaN</td>\n",
       "    </tr>\n",
       "    <tr>\n",
       "      <th>1</th>\n",
       "      <td>1.0</td>\n",
       "      <td>Maruti Alto 800 2016-2019 LXI</td>\n",
       "      <td>Coimbatore</td>\n",
       "      <td>2013</td>\n",
       "      <td>54493</td>\n",
       "      <td>Petrol</td>\n",
       "      <td>Manual</td>\n",
       "      <td>Second</td>\n",
       "      <td>24.7 kmpl</td>\n",
       "      <td>796 CC</td>\n",
       "      <td>47.3 bhp</td>\n",
       "      <td>5.0</td>\n",
       "      <td>NaN</td>\n",
       "    </tr>\n",
       "    <tr>\n",
       "      <th>2</th>\n",
       "      <td>2.0</td>\n",
       "      <td>Toyota Innova Crysta Touring Sport 2.4 MT</td>\n",
       "      <td>Mumbai</td>\n",
       "      <td>2017</td>\n",
       "      <td>34000</td>\n",
       "      <td>Diesel</td>\n",
       "      <td>Manual</td>\n",
       "      <td>First</td>\n",
       "      <td>13.68 kmpl</td>\n",
       "      <td>2393 CC</td>\n",
       "      <td>147.8 bhp</td>\n",
       "      <td>7.0</td>\n",
       "      <td>25.27 Lakh</td>\n",
       "    </tr>\n",
       "    <tr>\n",
       "      <th>3</th>\n",
       "      <td>3.0</td>\n",
       "      <td>Toyota Etios Liva GD</td>\n",
       "      <td>Hyderabad</td>\n",
       "      <td>2012</td>\n",
       "      <td>139000</td>\n",
       "      <td>Diesel</td>\n",
       "      <td>Manual</td>\n",
       "      <td>First</td>\n",
       "      <td>23.59 kmpl</td>\n",
       "      <td>1364 CC</td>\n",
       "      <td>null bhp</td>\n",
       "      <td>5.0</td>\n",
       "      <td>NaN</td>\n",
       "    </tr>\n",
       "    <tr>\n",
       "      <th>4</th>\n",
       "      <td>4.0</td>\n",
       "      <td>Hyundai i20 Magna</td>\n",
       "      <td>Mumbai</td>\n",
       "      <td>2014</td>\n",
       "      <td>29000</td>\n",
       "      <td>Petrol</td>\n",
       "      <td>Manual</td>\n",
       "      <td>First</td>\n",
       "      <td>18.5 kmpl</td>\n",
       "      <td>1197 CC</td>\n",
       "      <td>82.85 bhp</td>\n",
       "      <td>5.0</td>\n",
       "      <td>NaN</td>\n",
       "    </tr>\n",
       "  </tbody>\n",
       "</table>\n",
       "</div>"
      ],
      "text/plain": [
       "   Unnamed: 0                                       Name    Location  Year  \\\n",
       "0         0.0                    Maruti Alto K10 LXI CNG       Delhi  2014   \n",
       "1         1.0              Maruti Alto 800 2016-2019 LXI  Coimbatore  2013   \n",
       "2         2.0  Toyota Innova Crysta Touring Sport 2.4 MT      Mumbai  2017   \n",
       "3         3.0                       Toyota Etios Liva GD   Hyderabad  2012   \n",
       "4         4.0                          Hyundai i20 Magna      Mumbai  2014   \n",
       "\n",
       "   Kilometers_Driven Fuel_Type Transmission Owner_Type      Mileage   Engine  \\\n",
       "0              40929       CNG       Manual      First  32.26 km/kg   998 CC   \n",
       "1              54493    Petrol       Manual     Second    24.7 kmpl   796 CC   \n",
       "2              34000    Diesel       Manual      First   13.68 kmpl  2393 CC   \n",
       "3             139000    Diesel       Manual      First   23.59 kmpl  1364 CC   \n",
       "4              29000    Petrol       Manual      First    18.5 kmpl  1197 CC   \n",
       "\n",
       "       Power  Seats   New_Price  \n",
       "0   58.2 bhp    4.0         NaN  \n",
       "1   47.3 bhp    5.0         NaN  \n",
       "2  147.8 bhp    7.0  25.27 Lakh  \n",
       "3   null bhp    5.0         NaN  \n",
       "4  82.85 bhp    5.0         NaN  "
      ]
     },
     "execution_count": 6,
     "metadata": {},
     "output_type": "execute_result"
    }
   ],
   "source": [
    "datos.head(5)"
   ]
  },
  {
   "cell_type": "code",
   "execution_count": 7,
   "metadata": {},
   "outputs": [
    {
     "data": {
      "text/html": [
       "<div>\n",
       "<style scoped>\n",
       "    .dataframe tbody tr th:only-of-type {\n",
       "        vertical-align: middle;\n",
       "    }\n",
       "\n",
       "    .dataframe tbody tr th {\n",
       "        vertical-align: top;\n",
       "    }\n",
       "\n",
       "    .dataframe thead th {\n",
       "        text-align: right;\n",
       "    }\n",
       "</style>\n",
       "<table border=\"1\" class=\"dataframe\">\n",
       "  <thead>\n",
       "    <tr style=\"text-align: right;\">\n",
       "      <th></th>\n",
       "      <th>ID</th>\n",
       "      <th>Modelo</th>\n",
       "      <th>Locacion</th>\n",
       "      <th>Año</th>\n",
       "      <th>Kilometros_Recorridos</th>\n",
       "      <th>Tipo_Combustible</th>\n",
       "      <th>Transmision</th>\n",
       "      <th>Dueños</th>\n",
       "      <th>Millas_Recorridas</th>\n",
       "      <th>Cilindraje</th>\n",
       "      <th>Potencia</th>\n",
       "      <th>Asientos</th>\n",
       "      <th>Nuevo_Precio</th>\n",
       "    </tr>\n",
       "  </thead>\n",
       "  <tbody>\n",
       "    <tr>\n",
       "      <th>0</th>\n",
       "      <td>0.0</td>\n",
       "      <td>Maruti Alto K10 LXI CNG</td>\n",
       "      <td>Delhi</td>\n",
       "      <td>2014</td>\n",
       "      <td>40929</td>\n",
       "      <td>CNG</td>\n",
       "      <td>Manual</td>\n",
       "      <td>First</td>\n",
       "      <td>32.26 km/kg</td>\n",
       "      <td>998 CC</td>\n",
       "      <td>58.2 bhp</td>\n",
       "      <td>4.0</td>\n",
       "      <td>NaN</td>\n",
       "    </tr>\n",
       "    <tr>\n",
       "      <th>1</th>\n",
       "      <td>1.0</td>\n",
       "      <td>Maruti Alto 800 2016-2019 LXI</td>\n",
       "      <td>Coimbatore</td>\n",
       "      <td>2013</td>\n",
       "      <td>54493</td>\n",
       "      <td>Petrol</td>\n",
       "      <td>Manual</td>\n",
       "      <td>Second</td>\n",
       "      <td>24.7 kmpl</td>\n",
       "      <td>796 CC</td>\n",
       "      <td>47.3 bhp</td>\n",
       "      <td>5.0</td>\n",
       "      <td>NaN</td>\n",
       "    </tr>\n",
       "    <tr>\n",
       "      <th>2</th>\n",
       "      <td>2.0</td>\n",
       "      <td>Toyota Innova Crysta Touring Sport 2.4 MT</td>\n",
       "      <td>Mumbai</td>\n",
       "      <td>2017</td>\n",
       "      <td>34000</td>\n",
       "      <td>Diesel</td>\n",
       "      <td>Manual</td>\n",
       "      <td>First</td>\n",
       "      <td>13.68 kmpl</td>\n",
       "      <td>2393 CC</td>\n",
       "      <td>147.8 bhp</td>\n",
       "      <td>7.0</td>\n",
       "      <td>25.27 Lakh</td>\n",
       "    </tr>\n",
       "    <tr>\n",
       "      <th>3</th>\n",
       "      <td>3.0</td>\n",
       "      <td>Toyota Etios Liva GD</td>\n",
       "      <td>Hyderabad</td>\n",
       "      <td>2012</td>\n",
       "      <td>139000</td>\n",
       "      <td>Diesel</td>\n",
       "      <td>Manual</td>\n",
       "      <td>First</td>\n",
       "      <td>23.59 kmpl</td>\n",
       "      <td>1364 CC</td>\n",
       "      <td>null bhp</td>\n",
       "      <td>5.0</td>\n",
       "      <td>NaN</td>\n",
       "    </tr>\n",
       "    <tr>\n",
       "      <th>4</th>\n",
       "      <td>4.0</td>\n",
       "      <td>Hyundai i20 Magna</td>\n",
       "      <td>Mumbai</td>\n",
       "      <td>2014</td>\n",
       "      <td>29000</td>\n",
       "      <td>Petrol</td>\n",
       "      <td>Manual</td>\n",
       "      <td>First</td>\n",
       "      <td>18.5 kmpl</td>\n",
       "      <td>1197 CC</td>\n",
       "      <td>82.85 bhp</td>\n",
       "      <td>5.0</td>\n",
       "      <td>NaN</td>\n",
       "    </tr>\n",
       "  </tbody>\n",
       "</table>\n",
       "</div>"
      ],
      "text/plain": [
       "    ID                                     Modelo    Locacion   Año  \\\n",
       "0  0.0                    Maruti Alto K10 LXI CNG       Delhi  2014   \n",
       "1  1.0              Maruti Alto 800 2016-2019 LXI  Coimbatore  2013   \n",
       "2  2.0  Toyota Innova Crysta Touring Sport 2.4 MT      Mumbai  2017   \n",
       "3  3.0                       Toyota Etios Liva GD   Hyderabad  2012   \n",
       "4  4.0                          Hyundai i20 Magna      Mumbai  2014   \n",
       "\n",
       "   Kilometros_Recorridos Tipo_Combustible Transmision  Dueños  \\\n",
       "0                  40929              CNG      Manual   First   \n",
       "1                  54493           Petrol      Manual  Second   \n",
       "2                  34000           Diesel      Manual   First   \n",
       "3                 139000           Diesel      Manual   First   \n",
       "4                  29000           Petrol      Manual   First   \n",
       "\n",
       "  Millas_Recorridas Cilindraje   Potencia  Asientos Nuevo_Precio  \n",
       "0       32.26 km/kg     998 CC   58.2 bhp       4.0          NaN  \n",
       "1         24.7 kmpl     796 CC   47.3 bhp       5.0          NaN  \n",
       "2        13.68 kmpl    2393 CC  147.8 bhp       7.0   25.27 Lakh  \n",
       "3        23.59 kmpl    1364 CC   null bhp       5.0          NaN  \n",
       "4         18.5 kmpl    1197 CC  82.85 bhp       5.0          NaN  "
      ]
     },
     "execution_count": 7,
     "metadata": {},
     "output_type": "execute_result"
    }
   ],
   "source": [
    "headers = [\"ID\", \"Modelo\", \"Locacion\", \"Año\", \"Kilometros_Recorridos\", \"Tipo_Combustible\", \"Transmision\", \"Dueños\", \"Millas_Recorridas\", \"Cilindraje\", \"Potencia\", \"Asientos\", \"Nuevo_Precio\"]\n",
    "datos.columns =headers\n",
    "datos.head(5)"
   ]
  },
  {
   "cell_type": "code",
   "execution_count": 8,
   "metadata": {},
   "outputs": [],
   "source": [
    "#Cambiamos tipo de datos\n",
    "datos[\"ID\"] = datos[\"ID\"].astype('float64')"
   ]
  },
  {
   "cell_type": "code",
   "execution_count": 9,
   "metadata": {},
   "outputs": [
    {
     "name": "stdout",
     "output_type": "stream",
     "text": [
      "<class 'pandas.core.frame.DataFrame'>\n",
      "RangeIndex: 1234 entries, 0 to 1233\n",
      "Data columns (total 13 columns):\n",
      " #   Column                 Non-Null Count  Dtype  \n",
      "---  ------                 --------------  -----  \n",
      " 0   ID                     1234 non-null   float64\n",
      " 1   Modelo                 1234 non-null   object \n",
      " 2   Locacion               1234 non-null   object \n",
      " 3   Año                    1234 non-null   int64  \n",
      " 4   Kilometros_Recorridos  1234 non-null   int64  \n",
      " 5   Tipo_Combustible       1234 non-null   object \n",
      " 6   Transmision            1234 non-null   object \n",
      " 7   Dueños                 1234 non-null   object \n",
      " 8   Millas_Recorridas      1234 non-null   object \n",
      " 9   Cilindraje             1224 non-null   object \n",
      " 10  Potencia               1224 non-null   object \n",
      " 11  Asientos               1223 non-null   float64\n",
      " 12  Nuevo_Precio           182 non-null    object \n",
      "dtypes: float64(2), int64(2), object(9)\n",
      "memory usage: 125.5+ KB\n"
     ]
    }
   ],
   "source": [
    "datos.info()"
   ]
  },
  {
   "cell_type": "code",
   "execution_count": null,
   "metadata": {},
   "outputs": [],
   "source": [
    "# Normalizar datos de la columna kilometros recorridos\n",
    "\n",
    "datos[\"Kilometros_Recorridos\"] = datos[\"Kilometros_Recorridos\"]/datos[\"Kilometros_Recorridos\"].max()\n"
   ]
  },
  {
   "cell_type": "code",
   "execution_count": 14,
   "metadata": {},
   "outputs": [
    {
     "data": {
      "text/plain": [
       "0       0.116940\n",
       "1       0.155694\n",
       "2       0.097143\n",
       "3       0.397143\n",
       "4       0.082857\n",
       "          ...   \n",
       "1229    0.255460\n",
       "1230    0.168571\n",
       "1231    0.080000\n",
       "1232    0.149320\n",
       "1233    0.206980\n",
       "Name: Kilometros_Recorridos, Length: 1234, dtype: float64"
      ]
     },
     "execution_count": 14,
     "metadata": {},
     "output_type": "execute_result"
    }
   ],
   "source": [
    "datos[\"Kilometros_Recorridos\"]"
   ]
  },
  {
   "cell_type": "code",
   "execution_count": 20,
   "metadata": {},
   "outputs": [
    {
     "data": {
      "text/plain": [
       "0        pocos\n",
       "1        pocos\n",
       "2        pocos\n",
       "3       normal\n",
       "4        pocos\n",
       "         ...  \n",
       "1229     pocos\n",
       "1230     pocos\n",
       "1231     pocos\n",
       "1232     pocos\n",
       "1233     pocos\n",
       "Name: Kilometros_agrupados, Length: 1234, dtype: category\n",
       "Categories (3, object): ['pocos' < 'normal' < 'muchos']"
      ]
     },
     "execution_count": 20,
     "metadata": {},
     "output_type": "execute_result"
    }
   ],
   "source": [
    "intervalo = np.linspace(min(datos[\"Kilometros_Recorridos\"]),max(datos[\"Kilometros_Recorridos\"]),4)\n",
    "nombre_grupos = ['pocos','normal','muchos']\n",
    "datos['Kilometros_agrupados']=pd.cut(datos['Kilometros_Recorridos'],intervalo,labels=nombre_grupos,include_lowest=True)\n",
    "datos[\"Kilometros_agrupados\"]\n"
   ]
  },
  {
   "cell_type": "code",
   "execution_count": 21,
   "metadata": {},
   "outputs": [
    {
     "name": "stdout",
     "output_type": "stream",
     "text": [
      "<class 'pandas.core.frame.DataFrame'>\n",
      "RangeIndex: 1234 entries, 0 to 1233\n",
      "Data columns (total 14 columns):\n",
      " #   Column                 Non-Null Count  Dtype   \n",
      "---  ------                 --------------  -----   \n",
      " 0   ID                     1234 non-null   float64 \n",
      " 1   Modelo                 1234 non-null   object  \n",
      " 2   Locacion               1234 non-null   object  \n",
      " 3   Año                    1234 non-null   int64   \n",
      " 4   Kilometros_Recorridos  1234 non-null   float64 \n",
      " 5   Tipo_Combustible       1234 non-null   object  \n",
      " 6   Transmision            1234 non-null   object  \n",
      " 7   Dueños                 1234 non-null   object  \n",
      " 8   Millas_Recorridas      1234 non-null   object  \n",
      " 9   Cilindraje             1224 non-null   object  \n",
      " 10  Potencia               1224 non-null   object  \n",
      " 11  Asientos               1223 non-null   float64 \n",
      " 12  Nuevo_Precio           182 non-null    object  \n",
      " 13  Kilometros_agrupados   1234 non-null   category\n",
      "dtypes: category(1), float64(3), int64(1), object(9)\n",
      "memory usage: 126.8+ KB\n"
     ]
    }
   ],
   "source": [
    "datos.info()"
   ]
  },
  {
   "cell_type": "code",
   "execution_count": 30,
   "metadata": {},
   "outputs": [
    {
     "data": {
      "image/png": "[encoded data removed]",
      "text/plain": [
       "<Figure size 640x480 with 1 Axes>"
      ]
     },
     "metadata": {},
     "output_type": "display_data"
    }
   ],
   "source": [
    "import matplotlib.pyplot as plt\n",
    "\n",
    "plt.hist(datos[\"Kilometros_Recorridos\"],bins=intervalo, rwidth=0.9, color = \"orange\")\n",
    "plt.title('Histograma kilometros recorridos')\n",
    "plt.xlabel('Kilometros')\n",
    "plt.ylabel('Frecuencia')\n",
    "plt.show()"
   ]
  },
  {
   "cell_type": "code",
   "execution_count": 18,
   "metadata": {},
   "outputs": [
    {
     "data": {
      "text/plain": [
       "array(['CNG', 'Petrol', 'Diesel', 'LPG'], dtype=object)"
      ]
     },
     "execution_count": 18,
     "metadata": {},
     "output_type": "execute_result"
    }
   ],
   "source": [
    "#Transformar daots categoricos \n",
    "datos[\"Tipo_Combustible\"].unique()"
   ]
  },
  {
   "cell_type": "code",
   "execution_count": null,
   "metadata": {},
   "outputs": [],
   "source": []
  }
 ],
 "metadata": {
  "kernelspec": {
   "display_name": "Python 3",
   "language": "python",
   "name": "python3"
  },
  "language_info": {
   "codemirror_mode": {
    "name": "ipython",
    "version": 3
   },
   "file_extension": ".py",
   "mimetype": "text/x-python",
   "name": "python",
   "nbconvert_exporter": "python",
   "pygments_lexer": "ipython3",
   "version": "3.9.13"
  }
 },
 "nbformat": 4,
 "nbformat_minor": 2
}
