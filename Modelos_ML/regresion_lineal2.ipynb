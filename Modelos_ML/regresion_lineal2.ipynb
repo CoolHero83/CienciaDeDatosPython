{
 "cells": [
  {
   "cell_type": "code",
   "execution_count": 1,
   "metadata": {},
   "outputs": [],
   "source": [
    "import pandas as pd\n",
    "import matplotlib.pyplot as plt\n",
    "from sklearn.linear_model import LinearRegression\n",
    "from sklearn.model_selection import train_test_split\n",
    "from sklearn.metrics import mean_squared_error, r2_score"
   ]
  },
  {
   "cell_type": "code",
   "execution_count": 2,
   "metadata": {},
   "outputs": [
    {
     "data": {
      "text/html": [
       "<div>\n",
       "<style scoped>\n",
       "    .dataframe tbody tr th:only-of-type {\n",
       "        vertical-align: middle;\n",
       "    }\n",
       "\n",
       "    .dataframe tbody tr th {\n",
       "        vertical-align: top;\n",
       "    }\n",
       "\n",
       "    .dataframe thead th {\n",
       "        text-align: right;\n",
       "    }\n",
       "</style>\n",
       "<table border=\"1\" class=\"dataframe\">\n",
       "  <thead>\n",
       "    <tr style=\"text-align: right;\">\n",
       "      <th></th>\n",
       "      <th>indice</th>\n",
       "      <th>nombre</th>\n",
       "      <th>localizacion</th>\n",
       "      <th>año</th>\n",
       "      <th>kilometros recorridos</th>\n",
       "      <th>combustible</th>\n",
       "      <th>transmision</th>\n",
       "      <th>tipo propietario</th>\n",
       "      <th>kilometraje</th>\n",
       "      <th>motor</th>\n",
       "      <th>potencia</th>\n",
       "      <th>asientos</th>\n",
       "      <th>nuevo precio</th>\n",
       "      <th>precio</th>\n",
       "    </tr>\n",
       "  </thead>\n",
       "  <tbody>\n",
       "    <tr>\n",
       "      <th>0</th>\n",
       "      <td>0</td>\n",
       "      <td>Maruti Wagon R LXI CNG</td>\n",
       "      <td>Mumbai</td>\n",
       "      <td>2010</td>\n",
       "      <td>72000</td>\n",
       "      <td>CNG</td>\n",
       "      <td>Manual</td>\n",
       "      <td>First</td>\n",
       "      <td>26,6</td>\n",
       "      <td>998.0</td>\n",
       "      <td>124.424709</td>\n",
       "      <td>5.0</td>\n",
       "      <td>NaN</td>\n",
       "      <td>1750</td>\n",
       "    </tr>\n",
       "    <tr>\n",
       "      <th>1</th>\n",
       "      <td>1</td>\n",
       "      <td>Hyundai Creta 1.6 CRDi SX Option</td>\n",
       "      <td>Pune</td>\n",
       "      <td>2015</td>\n",
       "      <td>41000</td>\n",
       "      <td>Diesel</td>\n",
       "      <td>Manual</td>\n",
       "      <td>First</td>\n",
       "      <td>19,67</td>\n",
       "      <td>1582.0</td>\n",
       "      <td>124.424709</td>\n",
       "      <td>5.0</td>\n",
       "      <td>NaN</td>\n",
       "      <td>12500</td>\n",
       "    </tr>\n",
       "    <tr>\n",
       "      <th>2</th>\n",
       "      <td>2</td>\n",
       "      <td>Honda Jazz V</td>\n",
       "      <td>Chennai</td>\n",
       "      <td>2011</td>\n",
       "      <td>46000</td>\n",
       "      <td>Petrol</td>\n",
       "      <td>Manual</td>\n",
       "      <td>First</td>\n",
       "      <td>18,2</td>\n",
       "      <td>1199.0</td>\n",
       "      <td>124.424709</td>\n",
       "      <td>5.0</td>\n",
       "      <td>8,61</td>\n",
       "      <td>4500</td>\n",
       "    </tr>\n",
       "    <tr>\n",
       "      <th>3</th>\n",
       "      <td>3</td>\n",
       "      <td>Maruti Ertiga VDI</td>\n",
       "      <td>Chennai</td>\n",
       "      <td>2012</td>\n",
       "      <td>87000</td>\n",
       "      <td>Diesel</td>\n",
       "      <td>Manual</td>\n",
       "      <td>First</td>\n",
       "      <td>20,77</td>\n",
       "      <td>1248.0</td>\n",
       "      <td>124.424709</td>\n",
       "      <td>7.0</td>\n",
       "      <td>NaN</td>\n",
       "      <td>6000</td>\n",
       "    </tr>\n",
       "    <tr>\n",
       "      <th>4</th>\n",
       "      <td>4</td>\n",
       "      <td>Audi A4 New 2.0 TDI Multitronic</td>\n",
       "      <td>Coimbatore</td>\n",
       "      <td>2013</td>\n",
       "      <td>40670</td>\n",
       "      <td>Diesel</td>\n",
       "      <td>Automatic</td>\n",
       "      <td>Second</td>\n",
       "      <td>15,2</td>\n",
       "      <td>1968.0</td>\n",
       "      <td>124.424709</td>\n",
       "      <td>5.0</td>\n",
       "      <td>NaN</td>\n",
       "      <td>17740</td>\n",
       "    </tr>\n",
       "  </tbody>\n",
       "</table>\n",
       "</div>"
      ],
      "text/plain": [
       "   indice                            nombre localizacion   año  \\\n",
       "0       0            Maruti Wagon R LXI CNG       Mumbai  2010   \n",
       "1       1  Hyundai Creta 1.6 CRDi SX Option         Pune  2015   \n",
       "2       2                      Honda Jazz V      Chennai  2011   \n",
       "3       3                 Maruti Ertiga VDI      Chennai  2012   \n",
       "4       4   Audi A4 New 2.0 TDI Multitronic   Coimbatore  2013   \n",
       "\n",
       "   kilometros recorridos combustible transmision tipo propietario kilometraje  \\\n",
       "0                  72000         CNG      Manual            First        26,6   \n",
       "1                  41000      Diesel      Manual            First       19,67   \n",
       "2                  46000      Petrol      Manual            First        18,2   \n",
       "3                  87000      Diesel      Manual            First       20,77   \n",
       "4                  40670      Diesel   Automatic           Second        15,2   \n",
       "\n",
       "    motor    potencia  asientos nuevo precio  precio  \n",
       "0   998.0  124.424709       5.0          NaN    1750  \n",
       "1  1582.0  124.424709       5.0          NaN   12500  \n",
       "2  1199.0  124.424709       5.0         8,61    4500  \n",
       "3  1248.0  124.424709       7.0          NaN    6000  \n",
       "4  1968.0  124.424709       5.0          NaN   17740  "
      ]
     },
     "execution_count": 2,
     "metadata": {},
     "output_type": "execute_result"
    }
   ],
   "source": [
    "# Cargar datos\n",
    "\n",
    "datos = pd.read_csv('D:\\Cursos\\CienciaDeDatosPython\\Datos\\datosModificados.csv')\n",
    "datos.head(5)"
   ]
  },
  {
   "cell_type": "code",
   "execution_count": 3,
   "metadata": {},
   "outputs": [],
   "source": [
    "\n",
    "#modelo\n",
    "model  = LinearRegression()\n",
    "\n",
    "X = datos[['motor']]\n",
    "y = datos['precio']\n",
    "\n",
    "# Division de datos\n",
    "\n",
    "X_train, X_test, y_train, y_test = train_test_split(X, y, test_size=0.2, random_state=0)\n"
   ]
  },
  {
   "cell_type": "code",
   "execution_count": 4,
   "metadata": {},
   "outputs": [],
   "source": [
    "# Entrenamiento\n",
    "\n",
    "model.fit(X_train,y_train)\n",
    "\n",
    "#Prediccion:\n",
    "prediccion = model.predict(X_test)\n",
    "a = model.intercept_\n",
    "b = model.coef_"
   ]
  },
  {
   "cell_type": "code",
   "execution_count": 5,
   "metadata": {},
   "outputs": [
    {
     "name": "stdout",
     "output_type": "stream",
     "text": [
      "y=-10697.75489849921+[12.43133013]*X\n",
      "****************************************************************************************************\n",
      "[16390.11346176  4816.54510775  9167.51065437 ...  4816.54510775\n",
      "  7911.94631092  1708.71257444]\n",
      "5150     7250\n",
      "2164     4250\n",
      "1136     3900\n",
      "5641     8410\n",
      "1515    13480\n",
      "        ...  \n",
      "5899     4990\n",
      "4139    38150\n",
      "728      8500\n",
      "3619     6250\n",
      "3828     3870\n",
      "Name: precio, Length: 1204, dtype: int64\n",
      "0.4317171180146071\n"
     ]
    }
   ],
   "source": [
    "# Mostramos la ecuacion: \n",
    "print(f'y={a}+{b}*X')\n",
    "print('*'*100)\n",
    "print(prediccion)\n",
    "print(y_test)\n",
    "print(model.score(X,y))\n"
   ]
  },
  {
   "cell_type": "code",
   "execution_count": 6,
   "metadata": {},
   "outputs": [
    {
     "data": {
      "image/png": "[encoded data removed]",
      "text/plain": [
       "<Figure size 640x480 with 1 Axes>"
      ]
     },
     "metadata": {},
     "output_type": "display_data"
    },
    {
     "ename": "TypeError",
     "evalue": "regplot() got an unexpected keyword argument 'X'",
     "output_type": "error",
     "traceback": [
      "\u001b[1;31m---------------------------------------------------------------------------\u001b[0m",
      "\u001b[1;31mTypeError\u001b[0m                                 Traceback (most recent call last)",
      "Cell \u001b[1;32mIn[6], line 9\u001b[0m\n\u001b[0;32m      5\u001b[0m plt\u001b[38;5;241m.\u001b[39mplot(X_test, prediccion, color\u001b[38;5;241m=\u001b[39m\u001b[38;5;124m'\u001b[39m\u001b[38;5;124mblue\u001b[39m\u001b[38;5;124m'\u001b[39m)  \u001b[38;5;66;03m# Representa la funcion de prediccion del modelo\u001b[39;00m\n\u001b[0;32m      6\u001b[0m plt\u001b[38;5;241m.\u001b[39mshow()\n\u001b[1;32m----> 9\u001b[0m \u001b[43msns\u001b[49m\u001b[38;5;241;43m.\u001b[39;49m\u001b[43mregplot\u001b[49m\u001b[43m(\u001b[49m\u001b[43mX\u001b[49m\u001b[38;5;241;43m=\u001b[39;49m\u001b[38;5;124;43m'\u001b[39;49m\u001b[38;5;124;43mmotor\u001b[39;49m\u001b[38;5;124;43m'\u001b[39;49m\u001b[43m,\u001b[49m\u001b[43my\u001b[49m\u001b[38;5;241;43m=\u001b[39;49m\u001b[38;5;124;43m'\u001b[39;49m\u001b[38;5;124;43mprecio\u001b[39;49m\u001b[38;5;124;43m'\u001b[39;49m\u001b[43m,\u001b[49m\u001b[43m \u001b[49m\u001b[43mdata\u001b[49m\u001b[38;5;241;43m=\u001b[39;49m\u001b[43mdatos\u001b[49m\u001b[43m)\u001b[49m\n",
      "\u001b[1;31mTypeError\u001b[0m: regplot() got an unexpected keyword argument 'X'"
     ]
    }
   ],
   "source": [
    "# Visualizacion:\n",
    "import seaborn as sns\n",
    "\n",
    "plt.scatter(X_test, y_test, color='red')   # Representa los puntos segun los datos\n",
    "plt.plot(X_test, prediccion, color='blue')  # Representa la funcion de prediccion del modelo\n",
    "plt.show()\n",
    "\n",
    "\n",
    "sns.regplot(X='motor',y='precio', data=datos)"
   ]
  },
  {
   "cell_type": "code",
   "execution_count": 7,
   "metadata": {},
   "outputs": [
    {
     "ename": "TypeError",
     "evalue": "residplot() takes from 0 to 1 positional arguments but 2 were given",
     "output_type": "error",
     "traceback": [
      "\u001b[1;31m---------------------------------------------------------------------------\u001b[0m",
      "\u001b[1;31mTypeError\u001b[0m                                 Traceback (most recent call last)",
      "Cell \u001b[1;32mIn[7], line 3\u001b[0m\n\u001b[0;32m      1\u001b[0m \u001b[38;5;66;03m# vISUALIZAR RESIDUALES\u001b[39;00m\n\u001b[1;32m----> 3\u001b[0m \u001b[43msns\u001b[49m\u001b[38;5;241;43m.\u001b[39;49m\u001b[43mresidplot\u001b[49m\u001b[43m(\u001b[49m\u001b[43mdatos\u001b[49m\u001b[43m[\u001b[49m\u001b[38;5;124;43m'\u001b[39;49m\u001b[38;5;124;43mmotor\u001b[39;49m\u001b[38;5;124;43m'\u001b[39;49m\u001b[43m]\u001b[49m\u001b[43m,\u001b[49m\u001b[43m \u001b[49m\u001b[43mdatos\u001b[49m\u001b[43m[\u001b[49m\u001b[38;5;124;43m'\u001b[39;49m\u001b[38;5;124;43mprecio\u001b[39;49m\u001b[38;5;124;43m'\u001b[39;49m\u001b[43m]\u001b[49m\u001b[43m)\u001b[49m\n",
      "\u001b[1;31mTypeError\u001b[0m: residplot() takes from 0 to 1 positional arguments but 2 were given"
     ]
    }
   ],
   "source": [
    "# vISUALIZAR RESIDUALES\n",
    "\n",
    "sns.residplot(datos['motor'], datos['precio'])\n"
   ]
  },
  {
   "cell_type": "code",
   "execution_count": null,
   "metadata": {},
   "outputs": [],
   "source": []
  }
 ],
 "metadata": {
  "kernelspec": {
   "display_name": "Python 3",
   "language": "python",
   "name": "python3"
  },
  "language_info": {
   "codemirror_mode": {
    "name": "ipython",
    "version": 3
   },
   "file_extension": ".py",
   "mimetype": "text/x-python",
   "name": "python",
   "nbconvert_exporter": "python",
   "pygments_lexer": "ipython3",
   "version": "3.9.13"
  }
 },
 "nbformat": 4,
 "nbformat_minor": 2
}
