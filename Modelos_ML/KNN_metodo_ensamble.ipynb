{
 "cells": [
  {
   "cell_type": "markdown",
   "metadata": {},
   "source": [
    "# KNN metodo Ensamble\n",
    "- Utilizado para clasificacion y regresion\n",
    "- El prediccion el algoritmo busca los puntos más cercanos en el conjunto de entrenamiento\n",
    "- En clasificacion predice la clase mas frecuente entre los k vecinos mas cercanos\n",
    "- Los metodos de ensamblado combinan multiples modelos bases para mejorar el rendimiento predictivo, dos metodos de ensamblado son el bagging y el random forest"
   ]
  },
  {
   "cell_type": "code",
   "execution_count": 2,
   "metadata": {},
   "outputs": [],
   "source": [
    "import pandas as pd\n",
    "import numpy as np\n",
    "import matplotlib.pyplot as plt\n",
    "import seaborn as sns\n",
    "from sklearn.model_selection import train_test_split\n",
    "from sklearn.datasets import load_breast_cancer\n",
    "from sklearn.preprocessing import StandardScaler\n",
    "from sklearn.neighbors import KNeighborsClassifier\n",
    "from sklearn.ensemble import RandomForestClassifier\n",
    "from sklearn.metrics import accuracy_score, classification_report\n",
    "import joblib\n",
    "\n"
   ]
  },
  {
   "cell_type": "code",
   "execution_count": 3,
   "metadata": {},
   "outputs": [],
   "source": [
    "datos = load_breast_cancer()\n",
    "X = pd.DataFrame(datos.data, columns= datos.feature_names)\n",
    "y = pd.Series(datos.target)\n",
    "X_train, X_test, y_train, y_test = train_test_split(X, y, test_size = 0.3, random_state=42)"
   ]
  },
  {
   "cell_type": "code",
   "execution_count": 4,
   "metadata": {},
   "outputs": [
    {
     "name": "stdout",
     "output_type": "stream",
     "text": [
      "[[-0.12348985 -0.29680142 -0.17050713 ... -0.84082156 -0.8563616\n",
      "  -0.76574773]\n",
      " [-0.22826757 -0.65795149 -0.25377521 ... -0.37706655 -1.3415819\n",
      "  -0.41480748]\n",
      " [ 0.14553402 -1.23056444  0.24583328 ... -0.04762652 -0.08997059\n",
      "   0.4882635 ]\n",
      " ...\n",
      " [ 0.03226081 -0.55578404 -0.08064356 ... -1.26179013 -0.6828391\n",
      "  -1.27672587]\n",
      " [-0.05552593  0.10949242 -0.04684166 ...  1.07924018  0.4755842\n",
      "   1.25530227]\n",
      " [-0.56525537  0.32333128 -0.619825   ... -0.61952313 -0.30366032\n",
      "  -0.84348042]]\n"
     ]
    }
   ],
   "source": [
    "# Escalado\n",
    "\n",
    "scaler = StandardScaler()\n",
    "X_train_escalado = scaler.fit_transform(X_train)\n",
    "X_test_escalado = scaler.transform(X_test)\n",
    "\n",
    "print(X_train_escalado)"
   ]
  },
  {
   "cell_type": "code",
   "execution_count": 5,
   "metadata": {},
   "outputs": [
    {
     "name": "stdout",
     "output_type": "stream",
     "text": [
      "KNeighborsClassifier()\n"
     ]
    }
   ],
   "source": [
    "# Creacion en entrenamiento del model KNN\n",
    "\n",
    "model = KNeighborsClassifier(n_neighbors=5)\n",
    "model.fit(X_train_escalado, y_train)\n",
    "\n",
    "print(model)"
   ]
  },
  {
   "cell_type": "code",
   "execution_count": 8,
   "metadata": {},
   "outputs": [],
   "source": [
    "# Evaluar modelo\n",
    "\n",
    "prediccion = model.predict(X_test_escalado)\n",
    "knn_accuracy = accuracy_score(y_test, prediccion)"
   ]
  },
  {
   "cell_type": "code",
   "execution_count": 9,
   "metadata": {},
   "outputs": [
    {
     "name": "stdout",
     "output_type": "stream",
     "text": [
      "Accuracy del modelo:  0.9590643274853801\n",
      "Reporte de clasificacion: \n",
      "              precision    recall  f1-score   support\n",
      "\n",
      "           0       0.95      0.94      0.94        63\n",
      "           1       0.96      0.97      0.97       108\n",
      "\n",
      "    accuracy                           0.96       171\n",
      "   macro avg       0.96      0.95      0.96       171\n",
      "weighted avg       0.96      0.96      0.96       171\n",
      "\n"
     ]
    }
   ],
   "source": [
    "print(\"Accuracy del modelo: \",knn_accuracy)\n",
    "print(\"Reporte de clasificacion: \")\n",
    "print(classification_report(y_test, prediccion))"
   ]
  },
  {
   "cell_type": "code",
   "execution_count": 15,
   "metadata": {},
   "outputs": [],
   "source": [
    "# Crear el moddelo Randon Forest\n",
    "\n",
    "rf_model = RandomForestClassifier(n_estimators=100, random_state=42)\n",
    "rf_model.fit(X_train_escalado, y_train)\n",
    "\n",
    "rf_prediccion = rf_model.predict(X_test_escalado)\n",
    "rf_accuracy = accuracy_score(y_test, rf_prediccion)"
   ]
  },
  {
   "cell_type": "code",
   "execution_count": 16,
   "metadata": {},
   "outputs": [
    {
     "name": "stdout",
     "output_type": "stream",
     "text": [
      "Accuracy del modelo Randon Forest:  0.9707602339181286\n",
      "Reporte de clasificacion del modelo RF: \n",
      "              precision    recall  f1-score   support\n",
      "\n",
      "           0       0.98      0.94      0.96        63\n",
      "           1       0.96      0.99      0.98       108\n",
      "\n",
      "    accuracy                           0.97       171\n",
      "   macro avg       0.97      0.96      0.97       171\n",
      "weighted avg       0.97      0.97      0.97       171\n",
      "\n"
     ]
    }
   ],
   "source": [
    "print(\"Accuracy del modelo Randon Forest: \", rf_accuracy)\n",
    "print(\"Reporte de clasificacion del modelo RF: \")\n",
    "print(classification_report(y_test, rf_prediccion))"
   ]
  },
  {
   "cell_type": "code",
   "execution_count": 18,
   "metadata": {},
   "outputs": [
    {
     "name": "stdout",
     "output_type": "stream",
     "text": [
      "El mejor modelo es:  RandomForestClassifier(random_state=42)\n"
     ]
    }
   ],
   "source": [
    "mejor_modelo = model if knn_accuracy > rf_accuracy else rf_model\n",
    "print(\"El mejor modelo es: \", mejor_modelo)"
   ]
  }
 ],
 "metadata": {
  "kernelspec": {
   "display_name": "Python 3",
   "language": "python",
   "name": "python3"
  },
  "language_info": {
   "codemirror_mode": {
    "name": "ipython",
    "version": 3
   },
   "file_extension": ".py",
   "mimetype": "text/x-python",
   "name": "python",
   "nbconvert_exporter": "python",
   "pygments_lexer": "ipython3",
   "version": "3.9.13"
  }
 },
 "nbformat": 4,
 "nbformat_minor": 2
}
