{
 "cells": [
  {
   "cell_type": "code",
   "execution_count": 14,
   "metadata": {},
   "outputs": [
    {
     "ename": "AttributeError",
     "evalue": "module 'pandas' has no attribute 'read_xls'",
     "output_type": "error",
     "traceback": [
      "\u001b[1;31m---------------------------------------------------------------------------\u001b[0m",
      "\u001b[1;31mAttributeError\u001b[0m                            Traceback (most recent call last)",
      "Cell \u001b[1;32mIn[14], line 6\u001b[0m\n\u001b[0;32m      3\u001b[0m \u001b[38;5;28;01mfrom\u001b[39;00m \u001b[38;5;21;01m__future__\u001b[39;00m \u001b[38;5;28;01mimport\u001b[39;00m print_function\n\u001b[0;32m      4\u001b[0m \u001b[38;5;66;03m# Importar datos desde un archivo existente\u001b[39;00m\n\u001b[1;32m----> 6\u001b[0m datos \u001b[38;5;241m=\u001b[39m \u001b[43mpd\u001b[49m\u001b[38;5;241;43m.\u001b[39;49m\u001b[43mread_xls\u001b[49m(\u001b[38;5;124m\"\u001b[39m\u001b[38;5;124mhttps://ibm.box.com/shared/statics/lw190pt9zpy5bd1ptyg2aw15awomz9pu.xlsx\u001b[39m\u001b[38;5;124m\"\u001b[39m, sheetname\u001b[38;5;241m=\u001b[39m\u001b[38;5;124m\"\u001b[39m\u001b[38;5;124mCanada by Citizenship\u001b[39m\u001b[38;5;124m\"\u001b[39m, skiprows\u001b[38;5;241m=\u001b[39m\u001b[38;5;28mrange\u001b[39m(\u001b[38;5;241m20\u001b[39m), skip_footer \u001b[38;5;241m=\u001b[39m \u001b[38;5;241m2\u001b[39m)\n\u001b[0;32m      7\u001b[0m datos\u001b[38;5;241m.\u001b[39mhead(\u001b[38;5;241m5\u001b[39m)\n",
      "\u001b[1;31mAttributeError\u001b[0m: module 'pandas' has no attribute 'read_xls'"
     ]
    }
   ],
   "source": [
    "import pandas as pd\n",
    "import numpy as np\n",
    "from __future__ import print_function\n",
    "# Importar datos desde un archivo existente\n",
    "\n",
    "datos = pd.read_xls(\"https://ibm.box.com/shared/statics/lw190pt9zpy5bd1ptyg2aw15awomz9pu.xlsx\", sheetname=\"Canada by Citizenship\", skiprows=range(20), skip_footer = 2)\n",
    "datos.head(5)"
   ]
  },
  {
   "cell_type": "code",
   "execution_count": 12,
   "metadata": {},
   "outputs": [
    {
     "data": {
      "text/html": [
       "<div>\n",
       "<style scoped>\n",
       "    .dataframe tbody tr th:only-of-type {\n",
       "        vertical-align: middle;\n",
       "    }\n",
       "\n",
       "    .dataframe tbody tr th {\n",
       "        vertical-align: top;\n",
       "    }\n",
       "\n",
       "    .dataframe thead th {\n",
       "        text-align: right;\n",
       "    }\n",
       "</style>\n",
       "<table border=\"1\" class=\"dataframe\">\n",
       "  <thead>\n",
       "    <tr style=\"text-align: right;\">\n",
       "      <th></th>\n",
       "      <th>ID</th>\n",
       "      <th>Modelo</th>\n",
       "      <th>Locacion</th>\n",
       "      <th>Año</th>\n",
       "      <th>Kilometros_Recorridos</th>\n",
       "      <th>Tipo_Combustible</th>\n",
       "      <th>Transmision</th>\n",
       "      <th>Dueños</th>\n",
       "      <th>Millas_Recorridas</th>\n",
       "      <th>Cilindraje</th>\n",
       "      <th>Potencia</th>\n",
       "      <th>Asientos</th>\n",
       "      <th>Nuevo_Precio</th>\n",
       "    </tr>\n",
       "  </thead>\n",
       "  <tbody>\n",
       "    <tr>\n",
       "      <th>0</th>\n",
       "      <td>0</td>\n",
       "      <td>Maruti Alto K10 LXI CNG</td>\n",
       "      <td>Delhi</td>\n",
       "      <td>2014</td>\n",
       "      <td>40929</td>\n",
       "      <td>CNG</td>\n",
       "      <td>Manual</td>\n",
       "      <td>First</td>\n",
       "      <td>32.26 km/kg</td>\n",
       "      <td>998 CC</td>\n",
       "      <td>58.2 bhp</td>\n",
       "      <td>4.0</td>\n",
       "      <td>NaN</td>\n",
       "    </tr>\n",
       "    <tr>\n",
       "      <th>1</th>\n",
       "      <td>1</td>\n",
       "      <td>Maruti Alto 800 2016-2019 LXI</td>\n",
       "      <td>Coimbatore</td>\n",
       "      <td>2013</td>\n",
       "      <td>54493</td>\n",
       "      <td>Petrol</td>\n",
       "      <td>Manual</td>\n",
       "      <td>Second</td>\n",
       "      <td>24.7 kmpl</td>\n",
       "      <td>796 CC</td>\n",
       "      <td>47.3 bhp</td>\n",
       "      <td>5.0</td>\n",
       "      <td>NaN</td>\n",
       "    </tr>\n",
       "    <tr>\n",
       "      <th>2</th>\n",
       "      <td>2</td>\n",
       "      <td>Toyota Innova Crysta Touring Sport 2.4 MT</td>\n",
       "      <td>Mumbai</td>\n",
       "      <td>2017</td>\n",
       "      <td>34000</td>\n",
       "      <td>Diesel</td>\n",
       "      <td>Manual</td>\n",
       "      <td>First</td>\n",
       "      <td>13.68 kmpl</td>\n",
       "      <td>2393 CC</td>\n",
       "      <td>147.8 bhp</td>\n",
       "      <td>7.0</td>\n",
       "      <td>25.27 Lakh</td>\n",
       "    </tr>\n",
       "    <tr>\n",
       "      <th>3</th>\n",
       "      <td>3</td>\n",
       "      <td>Toyota Etios Liva GD</td>\n",
       "      <td>Hyderabad</td>\n",
       "      <td>2012</td>\n",
       "      <td>139000</td>\n",
       "      <td>Diesel</td>\n",
       "      <td>Manual</td>\n",
       "      <td>First</td>\n",
       "      <td>23.59 kmpl</td>\n",
       "      <td>1364 CC</td>\n",
       "      <td>null bhp</td>\n",
       "      <td>5.0</td>\n",
       "      <td>NaN</td>\n",
       "    </tr>\n",
       "    <tr>\n",
       "      <th>4</th>\n",
       "      <td>4</td>\n",
       "      <td>Hyundai i20 Magna</td>\n",
       "      <td>Mumbai</td>\n",
       "      <td>2014</td>\n",
       "      <td>29000</td>\n",
       "      <td>Petrol</td>\n",
       "      <td>Manual</td>\n",
       "      <td>First</td>\n",
       "      <td>18.5 kmpl</td>\n",
       "      <td>1197 CC</td>\n",
       "      <td>82.85 bhp</td>\n",
       "      <td>5.0</td>\n",
       "      <td>NaN</td>\n",
       "    </tr>\n",
       "  </tbody>\n",
       "</table>\n",
       "</div>"
      ],
      "text/plain": [
       "   ID                                     Modelo    Locacion   Año  \\\n",
       "0   0                    Maruti Alto K10 LXI CNG       Delhi  2014   \n",
       "1   1              Maruti Alto 800 2016-2019 LXI  Coimbatore  2013   \n",
       "2   2  Toyota Innova Crysta Touring Sport 2.4 MT      Mumbai  2017   \n",
       "3   3                       Toyota Etios Liva GD   Hyderabad  2012   \n",
       "4   4                          Hyundai i20 Magna      Mumbai  2014   \n",
       "\n",
       "   Kilometros_Recorridos Tipo_Combustible Transmision  Dueños  \\\n",
       "0                  40929              CNG      Manual   First   \n",
       "1                  54493           Petrol      Manual  Second   \n",
       "2                  34000           Diesel      Manual   First   \n",
       "3                 139000           Diesel      Manual   First   \n",
       "4                  29000           Petrol      Manual   First   \n",
       "\n",
       "  Millas_Recorridas Cilindraje   Potencia  Asientos Nuevo_Precio  \n",
       "0       32.26 km/kg     998 CC   58.2 bhp       4.0          NaN  \n",
       "1         24.7 kmpl     796 CC   47.3 bhp       5.0          NaN  \n",
       "2        13.68 kmpl    2393 CC  147.8 bhp       7.0   25.27 Lakh  \n",
       "3        23.59 kmpl    1364 CC   null bhp       5.0          NaN  \n",
       "4         18.5 kmpl    1197 CC  82.85 bhp       5.0          NaN  "
      ]
     },
     "execution_count": 12,
     "metadata": {},
     "output_type": "execute_result"
    }
   ],
   "source": [
    "# Reemplazar datos de la cadecera\n",
    "\n",
    "headers = [\"ID\", \"Modelo\", \"Locacion\", \"Año\", \"Kilometros_Recorridos\", \"Tipo_Combustible\", \"Transmision\", \"Dueños\", \"Millas_Recorridas\", \"Cilindraje\", \"Potencia\", \"Asientos\", \"Nuevo_Precio\"]\n",
    "datos.columns =headers\n",
    "datos.head(5)"
   ]
  },
  {
   "cell_type": "code",
   "execution_count": 4,
   "metadata": {},
   "outputs": [
    {
     "name": "stdout",
     "output_type": "stream",
     "text": [
      "<class 'pandas.core.frame.DataFrame'>\n",
      "RangeIndex: 1234 entries, 0 to 1233\n",
      "Data columns (total 13 columns):\n",
      " #   Column                 Non-Null Count  Dtype  \n",
      "---  ------                 --------------  -----  \n",
      " 0   ID                     1234 non-null   int64  \n",
      " 1   Modelo                 1234 non-null   object \n",
      " 2   Locacion               1234 non-null   object \n",
      " 3   Año                    1234 non-null   int64  \n",
      " 4   Kilometros_Recorridos  1234 non-null   int64  \n",
      " 5   Tipo_Combustible       1234 non-null   object \n",
      " 6   Transmision            1234 non-null   object \n",
      " 7   Dueños                 1234 non-null   object \n",
      " 8   Millas_Recorridas      1234 non-null   object \n",
      " 9   Cilindraje             1224 non-null   object \n",
      " 10  Potencia               1224 non-null   object \n",
      " 11  Asientos               1223 non-null   float64\n",
      " 12  Nuevo_Precio           182 non-null    object \n",
      "dtypes: float64(1), int64(3), object(9)\n",
      "memory usage: 125.5+ KB\n"
     ]
    }
   ],
   "source": [
    "datos.info()"
   ]
  },
  {
   "cell_type": "code",
   "execution_count": 7,
   "metadata": {},
   "outputs": [
    {
     "data": {
      "text/plain": [
       "array(['First', 'Second', 'Third', 'Fourth & Above'], dtype=object)"
      ]
     },
     "execution_count": 7,
     "metadata": {},
     "output_type": "execute_result"
    }
   ],
   "source": [
    "datos[\"Dueños\"].unique()"
   ]
  },
  {
   "cell_type": "code",
   "execution_count": null,
   "metadata": {},
   "outputs": [],
   "source": []
  },
  {
   "cell_type": "code",
   "execution_count": 5,
   "metadata": {},
   "outputs": [
    {
     "data": {
      "text/html": [
       "<div>\n",
       "<style scoped>\n",
       "    .dataframe tbody tr th:only-of-type {\n",
       "        vertical-align: middle;\n",
       "    }\n",
       "\n",
       "    .dataframe tbody tr th {\n",
       "        vertical-align: top;\n",
       "    }\n",
       "\n",
       "    .dataframe thead th {\n",
       "        text-align: right;\n",
       "    }\n",
       "</style>\n",
       "<table border=\"1\" class=\"dataframe\">\n",
       "  <thead>\n",
       "    <tr style=\"text-align: right;\">\n",
       "      <th></th>\n",
       "      <th>ID</th>\n",
       "      <th>Año</th>\n",
       "      <th>Kilometros_Recorridos</th>\n",
       "      <th>Asientos</th>\n",
       "    </tr>\n",
       "  </thead>\n",
       "  <tbody>\n",
       "    <tr>\n",
       "      <th>count</th>\n",
       "      <td>1234.000000</td>\n",
       "      <td>1234.000000</td>\n",
       "      <td>1234.000000</td>\n",
       "      <td>1223.000000</td>\n",
       "    </tr>\n",
       "    <tr>\n",
       "      <th>mean</th>\n",
       "      <td>616.500000</td>\n",
       "      <td>2013.400324</td>\n",
       "      <td>58507.288493</td>\n",
       "      <td>5.284546</td>\n",
       "    </tr>\n",
       "    <tr>\n",
       "      <th>std</th>\n",
       "      <td>356.369424</td>\n",
       "      <td>3.179700</td>\n",
       "      <td>35598.702098</td>\n",
       "      <td>0.825622</td>\n",
       "    </tr>\n",
       "    <tr>\n",
       "      <th>min</th>\n",
       "      <td>0.000000</td>\n",
       "      <td>1996.000000</td>\n",
       "      <td>1000.000000</td>\n",
       "      <td>2.000000</td>\n",
       "    </tr>\n",
       "    <tr>\n",
       "      <th>25%</th>\n",
       "      <td>308.250000</td>\n",
       "      <td>2011.000000</td>\n",
       "      <td>34000.000000</td>\n",
       "      <td>5.000000</td>\n",
       "    </tr>\n",
       "    <tr>\n",
       "      <th>50%</th>\n",
       "      <td>616.500000</td>\n",
       "      <td>2014.000000</td>\n",
       "      <td>54572.500000</td>\n",
       "      <td>5.000000</td>\n",
       "    </tr>\n",
       "    <tr>\n",
       "      <th>75%</th>\n",
       "      <td>924.750000</td>\n",
       "      <td>2016.000000</td>\n",
       "      <td>75000.000000</td>\n",
       "      <td>5.000000</td>\n",
       "    </tr>\n",
       "    <tr>\n",
       "      <th>max</th>\n",
       "      <td>1233.000000</td>\n",
       "      <td>2019.000000</td>\n",
       "      <td>350000.000000</td>\n",
       "      <td>10.000000</td>\n",
       "    </tr>\n",
       "  </tbody>\n",
       "</table>\n",
       "</div>"
      ],
      "text/plain": [
       "                ID          Año  Kilometros_Recorridos     Asientos\n",
       "count  1234.000000  1234.000000            1234.000000  1223.000000\n",
       "mean    616.500000  2013.400324           58507.288493     5.284546\n",
       "std     356.369424     3.179700           35598.702098     0.825622\n",
       "min       0.000000  1996.000000            1000.000000     2.000000\n",
       "25%     308.250000  2011.000000           34000.000000     5.000000\n",
       "50%     616.500000  2014.000000           54572.500000     5.000000\n",
       "75%     924.750000  2016.000000           75000.000000     5.000000\n",
       "max    1233.000000  2019.000000          350000.000000    10.000000"
      ]
     },
     "execution_count": 5,
     "metadata": {},
     "output_type": "execute_result"
    }
   ],
   "source": [
    "datos.describe()"
   ]
  },
  {
   "cell_type": "code",
   "execution_count": 6,
   "metadata": {},
   "outputs": [],
   "source": [
    "# Guardar le progreso de los cambios en un nuevo archivo cambiae el nombre Automoviles.csv\n",
    "\n",
    "path =\"Datos/Automoviles.csv\"\n",
    "\n",
    "datos.to_csv(path)"
   ]
  },
  {
   "cell_type": "code",
   "execution_count": 8,
   "metadata": {},
   "outputs": [
    {
     "data": {
      "text/plain": [
       "Modelo\n",
       "Maruti Alto LXi                                         9\n",
       "Volkswagen Polo 1.2 MPI Highline                        8\n",
       "Maruti Swift Dzire VDI                                  8\n",
       "Honda City 1.5 V MT                                     8\n",
       "Maruti Alto 800 2016-2019 LXI                           7\n",
       "                                                       ..\n",
       "Hyundai Verna 1.6 SX VTVT (O)                           1\n",
       "Hyundai Elite i20 Magna Plus                            1\n",
       "Honda Amaze VX AT i-Vtech                               1\n",
       "Chevrolet Aveo 1.4 LS                                   1\n",
       "Mercedes-Benz E-Class 2009-2013 E 220 CDI Avantgarde    1\n",
       "Name: count, Length: 768, dtype: int64"
      ]
     },
     "execution_count": 8,
     "metadata": {},
     "output_type": "execute_result"
    }
   ],
   "source": [
    "datos[\"Modelo\"].value_counts()"
   ]
  },
  {
   "cell_type": "code",
   "execution_count": 14,
   "metadata": {},
   "outputs": [
    {
     "data": {
      "text/plain": [
       "0              NaN\n",
       "1              NaN\n",
       "2       25.27 Lakh\n",
       "3              NaN\n",
       "4              NaN\n",
       "           ...    \n",
       "1229           NaN\n",
       "1230           NaN\n",
       "1231           NaN\n",
       "1232           NaN\n",
       "1233           NaN\n",
       "Name: Nuevo_Precio, Length: 1234, dtype: object"
      ]
     },
     "execution_count": 14,
     "metadata": {},
     "output_type": "execute_result"
    }
   ],
   "source": [
    "datos[\"Nuevo_Precio\"]\n"
   ]
  }
 ],
 "metadata": {
  "kernelspec": {
   "display_name": "Python 3",
   "language": "python",
   "name": "python3"
  },
  "language_info": {
   "codemirror_mode": {
    "name": "ipython",
    "version": 3
   },
   "file_extension": ".py",
   "mimetype": "text/x-python",
   "name": "python",
   "nbconvert_exporter": "python",
   "pygments_lexer": "ipython3",
   "version": "3.9.13"
  }
 },
 "nbformat": 4,
 "nbformat_minor": 2
}
